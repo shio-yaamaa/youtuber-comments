{
 "cells": [
  {
   "cell_type": "code",
   "execution_count": null,
   "metadata": {},
   "outputs": [],
   "source": [
    "from typing import Optional, List\n",
    "import os\n",
    "import json\n",
    "import googleapiclient.discovery"
   ]
  },
  {
   "cell_type": "code",
   "execution_count": null,
   "metadata": {},
   "outputs": [],
   "source": [
    "API_SERVICE_NAME = 'youtube'\n",
    "API_VERSION = 'v3'\n",
    "with open('api-key.txt') as f:\n",
    "    API_KEY = f.read()\n",
    "    \n",
    "CHANNEL_URL_PREFIX = 'http://www.youtube.com/channel/'\n",
    "\n",
    "def id2channel_url(id):\n",
    "    return CHANNEL_URL_PREFIX + id"
   ]
  },
  {
   "cell_type": "code",
   "execution_count": null,
   "metadata": {},
   "outputs": [],
   "source": [
    "os.environ['OAUTHLIB_INSECURE_TRANSPORT'] = '1'\n",
    "youtube = googleapiclient.discovery.build(\n",
    "    API_SERVICE_NAME,\n",
    "    API_VERSION,\n",
    "    developerKey=API_KEY\n",
    ")"
   ]
  },
  {
   "cell_type": "code",
   "execution_count": null,
   "metadata": {},
   "outputs": [],
   "source": [
    "class YoutubersComment:\n",
    "    def __init__(self, author, comment):\n",
    "        self.author = author\n",
    "        self.comment = comment\n",
    "    \n",
    "    def format_for_csv(self):\n",
    "        return ','.join([\n",
    "            self.comment['snippet']['publishedAt'],\n",
    "            self.comment['snippet']['videoId'] if 'videoId' in self.comment['snippet'] else '',\n",
    "            self.comment['snippet']['parentId'] if 'parentId' in self.comment['snippet'] else '',\n",
    "            self.author['display_name'],\n",
    "            self.comment['snippet']['textDisplay']\n",
    "        ])"
   ]
  },
  {
   "cell_type": "code",
   "execution_count": null,
   "metadata": {},
   "outputs": [],
   "source": [
    "with open('youtubers.json') as f:\n",
    "    content = json.load(f)\n",
    "    youtubers = content['youtubers']\n",
    "    main_youtuber = youtubers[content['main']]\n",
    "\n",
    "MAIN_YOUTUBER_CHANNEL_ID = main_youtuber['id']"
   ]
  },
  {
   "cell_type": "code",
   "execution_count": null,
   "metadata": {},
   "outputs": [],
   "source": [
    "next_page_token_filename = 'output/next-page-token.txt'\n",
    "\n",
    "def get_next_page_token() -> Optional[str]:\n",
    "    with open(next_page_token_filename, 'r') as f:\n",
    "        token = f.read()\n",
    "        return token if len(token) > 0 else None\n",
    "\n",
    "def set_next_page_token(token: Optional[str]):\n",
    "    with open(next_page_token_filename, 'w') as f:\n",
    "        f.write(token if token else '')"
   ]
  },
  {
   "cell_type": "code",
   "execution_count": null,
   "metadata": {},
   "outputs": [],
   "source": [
    "# Returns the nextPageToken if one exists\n",
    "def fetch_comment_threads(page_token=None):\n",
    "    request = youtube.commentThreads().list(\n",
    "        part='replies,snippet',\n",
    "        allThreadsRelatedToChannelId=MAIN_YOUTUBER_CHANNEL_ID,\n",
    "        textFormat='plainText',\n",
    "        pageToken=page_token\n",
    "    )\n",
    "    response = request.execute()\n",
    "    return response['items'], response['nextPageToken'] if 'nextPageToken' in response else None\n",
    "\n",
    "def fetch_replies(thread):\n",
    "    reply_count = thread['snippet']['totalReplyCount']\n",
    "    if reply_count == 0:\n",
    "        return []\n",
    "    if 'replies' in thread and reply_count == len(thread['replies']['comments']):\n",
    "        return thread['replies']['comments']\n",
    "    request = youtube.comments().list(\n",
    "        part='snippet',\n",
    "        parentId=thread['snippet']['topLevelComment']['id']\n",
    "    )\n",
    "    response = request.execute()\n",
    "    return response['items'] # Read only the first page assuming there are not so many long threads\n",
    "\n",
    "def filter_youtubers_comments(comments) -> List[YoutubersComment]:\n",
    "    youtubers_comments = []\n",
    "    for comment in comments:\n",
    "        for name, data in youtubers.items():\n",
    "            if comment['snippet']['authorChannelUrl'] == id2channel_url(data['id']):\n",
    "                youtubers_comments.append(YoutubersComment(data, comment))\n",
    "                break\n",
    "    return youtubers_comments\n",
    "\n",
    "def output_youtubers_comments(comments: List[YoutubersComment]):\n",
    "    with open('output/comments.csv', 'a') as f:\n",
    "        for comment in comments:\n",
    "            f.write(comment.format_for_csv() + \"\\n\")"
   ]
  },
  {
   "cell_type": "code",
   "execution_count": null,
   "metadata": {},
   "outputs": [],
   "source": [
    "# Returns the nextPageToken if one exists\n",
    "def handle_comment_threads_on_single_page(page_token=None) -> Optional[str]:\n",
    "    threads, next_page_token = fetch_comment_threads(page_token)\n",
    "    comments = []\n",
    "    for thread in threads:\n",
    "        comments.append(thread['snippet']['topLevelComment'])\n",
    "        comments.extend(fetch_replies(thread))\n",
    "    output_youtubers_comments(filter_youtubers_comments(comments))\n",
    "    \n",
    "    return next_page_token"
   ]
  },
  {
   "cell_type": "code",
   "execution_count": null,
   "metadata": {},
   "outputs": [],
   "source": [
    "next_page_token = get_next_page_token()\n",
    "\n",
    "# Stops when the daily quota limit is reached or no nextPageToken exists\n",
    "while True:\n",
    "    next_page_token = handle_comment_threads_on_single_page(next_page_token)\n",
    "    set_next_page_token(next_page_token)\n",
    "    if not next_page_token:\n",
    "        break"
   ]
  }
 ],
 "metadata": {
  "kernelspec": {
   "display_name": "Python 3",
   "language": "python",
   "name": "python3"
  },
  "language_info": {
   "codemirror_mode": {
    "name": "ipython",
    "version": 3
   },
   "file_extension": ".py",
   "mimetype": "text/x-python",
   "name": "python",
   "nbconvert_exporter": "python",
   "pygments_lexer": "ipython3",
   "version": "3.7.3"
  }
 },
 "nbformat": 4,
 "nbformat_minor": 2
}
